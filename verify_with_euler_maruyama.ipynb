{
 "cells": [
  {
   "cell_type": "markdown",
   "metadata": {},
   "source": [
    "The task is to price a bond that follows a stochastic interest rate and pays coupons.\n",
    "$$\n",
    "dr = \\kappa (\\theta e^{\\mu t} -r)dt + \\sigma r^\\beta dW_t = f(r,t)dt + v(r,t)dW_t\n",
    "$$\n",
    "We use the notation of times $\\{t_k\\}_{k=0}^{k=K}$ and $\\Delta t= \\frac{T}{K}$. The euler maruyama scheme gives us:\n",
    "$$\n",
    "r(t_k)-r(t_{k-1})  = f(r(t_{k-1},t_{k-1}))\\Delta t +v(r(t_{k-1},t_{k-1}))\\sqrt{\\Delta t}\\phi_{k-1}\n",
    "$$\n",
    "\n",
    "We know that our bond pays $F$, the face value, at maturity. We also know it pays dividends, at rate $Ce^{-\\alpha t}$. Under the risk neutral measure, these need to be discounted, both at the rate:\n",
    "\n",
    "$$\n",
    "\\exp\\left(-\\int_0^t r(s)ds\\right)\n",
    "$$\n",
    "\n",
    "Applying this discounting, and noting that the value of $B(r_0,t=0)% is an expectation, we have the expectation that we want to compute, being:\n",
    "\n",
    "$$\n",
    "B(r_0,0) = \\mathbb{E}\\left[\n",
    "    \\int_0^TCe^{-\\alpha t}exp\\left(\\int_0^t r(s)ds\\right)dt + Fexp\\left(\\int_0^T r(s)ds\\right)\n",
    "\\right]\n",
    "$$\n",
    "\n",
    "Where each coupon needs to be discounted to zero at each timestep it is paid.\n",
    "\n",
    "This is discretised fairly simply:\n",
    "\n",
    "$$\n",
    "\\tilde{g} = \\sum_{i=0}^{K-1} Ce^{-\\alpha t_i}\\Delta t \\exp\\left(-\\sum_{j=0}^i r_j\\Delta t\\right) + F \\exp\\left(-\\sum_{j=0}^Kr_j\\Delta t\\right)\n",
    "$$\n",
    "\n",
    "And the bond, through convergence in expectation, for N paths:\n",
    "\n",
    "$$\n",
    "B(r_0,t=0) \\approx \\frac{1}{N}\\sum_{i=0}^{N-1} \\tilde{g}\n",
    "$$"
   ]
  },
  {
   "cell_type": "code",
   "execution_count": 1,
   "metadata": {},
   "outputs": [],
   "source": [
    "import numpy as np\n",
    "from numpy import exp\n",
    "from scipy.stats import norm\n",
    "from scipy.stats.qmc import Halton"
   ]
  },
  {
   "cell_type": "code",
   "execution_count": 2,
   "metadata": {},
   "outputs": [],
   "source": [
    "T = 3\n",
    "F = 240\n",
    "theta = 0.0289\n",
    "r0 = 0.0238\n",
    "kappa = 0.09389\n",
    "mu = 0.0141\n",
    "C = 10.2\n",
    "alpha = 0.01\n",
    "beta = 0.418\n",
    "sigma = 0.116\n",
    "\n",
    "\n",
    "# 100,000 paths and 100 timesteps \n",
    "\n",
    "N=100000\n",
    "K=100\n",
    "\n",
    "delta_t = T/K"
   ]
  },
  {
   "cell_type": "code",
   "execution_count": 3,
   "metadata": {},
   "outputs": [],
   "source": [
    "f = lambda r,t: kappa * (theta * np.exp(mu * t)-r)\n",
    "v = lambda r, t: sigma * np.abs(r)** beta # modelling assumptions, interest rate is positive a.s.\n",
    "\n",
    "def halton_sequence(N,K,scramble=True,seed=8032003):\n",
    "    sampler = Halton(d=K,scramble=scramble,seed=seed)\n",
    "    samples = sampler.random(N)\n",
    "    return norm.ppf(samples)\n",
    "\n",
    "def simulate_rate_paths(r0,T,K,N):\n",
    "    delta_t =T/K\n",
    "    t = np.linspace(0,T,K+1)\n",
    "    rates = np.zeros((N,K+1))\n",
    "    rates[:,0] = r0 #initial rate\n",
    "    phi = halton_sequence(N, K)\n",
    "    for k in range(1,K+1):\n",
    "        rates[:,k] = rates[:,k-1] + f(rates[:,k-1],t[k-1]) * delta_t + v(rates[:,k-1],t[k-1]) * np.sqrt(delta_t) * phi[:,k-1]\n",
    "    return rates, t, delta_t"
   ]
  },
  {
   "cell_type": "code",
   "execution_count": 4,
   "metadata": {},
   "outputs": [],
   "source": [
    "def g(rates,t,delta_t):\n",
    "    coupon_sum = 0.\n",
    "    for i in range(len(t)-1):\n",
    "        discount = exp(-np.sum(rates[:i+1] * delta_t))\n",
    "        coupons = C * np.exp(-alpha * t[i]) * delta_t\n",
    "        coupon_sum += coupons * discount\n",
    "    final_discount = exp(-np.sum(rates*delta_t))\n",
    "    return coupon_sum + F * final_discount\n",
    "\n",
    "def B(rates,N,t,delta_t):\n",
    "    payoffs = [g(rates[i], t, delta_t) for i in range(N)]\n",
    "    return np.mean(payoffs),np.var(payoffs,ddof=1)\n",
    "\n"
   ]
  },
  {
   "cell_type": "code",
   "execution_count": 5,
   "metadata": {},
   "outputs": [],
   "source": [
    "rates, t_grid, delta_t = simulate_rate_paths(r0, T, K, N)\n",
    "\n",
    "# Compute the bond price using the function B\n",
    "bond_price,var_bond = B(rates, N, t_grid, delta_t)"
   ]
  },
  {
   "cell_type": "code",
   "execution_count": 7,
   "metadata": {},
   "outputs": [
    {
     "name": "stdout",
     "output_type": "stream",
     "text": [
      "252.3881+/-14.71928577306211\n"
     ]
    }
   ],
   "source": [
    "print(f'{bond_price:.4f}+/-{np.sqrt(var_bond)}')"
   ]
  },
  {
   "cell_type": "code",
   "execution_count": null,
   "metadata": {},
   "outputs": [],
   "source": []
  }
 ],
 "metadata": {
  "kernelspec": {
   "display_name": "Python 3",
   "language": "python",
   "name": "python3"
  },
  "language_info": {
   "codemirror_mode": {
    "name": "ipython",
    "version": 3
   },
   "file_extension": ".py",
   "mimetype": "text/x-python",
   "name": "python",
   "nbconvert_exporter": "python",
   "pygments_lexer": "ipython3",
   "version": "3.12.4"
  }
 },
 "nbformat": 4,
 "nbformat_minor": 2
}
